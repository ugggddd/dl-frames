{
 "cells": [
  {
   "cell_type": "markdown",
   "metadata": {},
   "source": [
    "## 极限学习机--Classification Example\n",
    "训练部分，目的：求出$W_{out}$，随机初始化$W$和$b$\n",
    "$$ H = sigmoid(Wx_{train}+b)\\\\ H^{+}=H\\text{的广义逆}$$\n",
    "$$ W_{out} = H^{+}{y_{train}} \\text{(需要将 y 转成 one-hot)}$$\n",
    "测试部分\n",
    "$$ prediciton = sigmoid(Wx_{test}+b)W_{out}$$"
   ]
  },
  {
   "cell_type": "code",
   "execution_count": 1,
   "metadata": {},
   "outputs": [],
   "source": [
    "from sklearn import datasets\n",
    "\n",
    "iris = datasets.load_iris()\n",
    "X, y = iris.data, iris.target"
   ]
  },
  {
   "cell_type": "code",
   "execution_count": 2,
   "metadata": {},
   "outputs": [],
   "source": [
    "from sklearn.model_selection import train_test_split\n",
    "\n",
    "X_train, X_test, y_train, y_test = train_test_split(X, y, test_size=0.2, random_state=19)"
   ]
  },
  {
   "cell_type": "markdown",
   "metadata": {},
   "source": [
    "需要标准化，不然会产生很大的极端值"
   ]
  },
  {
   "cell_type": "code",
   "execution_count": 3,
   "metadata": {},
   "outputs": [],
   "source": [
    "from sklearn.preprocessing import StandardScaler\n",
    "\n",
    "standard = StandardScaler()\n",
    "standard.fit(X_train)\n",
    "X_train_standard = standard.transform(X_train)\n",
    "X_test_standard = standard.transform(X_test)"
   ]
  },
  {
   "cell_type": "markdown",
   "metadata": {},
   "source": [
    "导入 ELM 框架"
   ]
  },
  {
   "cell_type": "code",
   "execution_count": 4,
   "metadata": {},
   "outputs": [],
   "source": [
    "from frames.ELM import ELMClassification"
   ]
  },
  {
   "cell_type": "code",
   "execution_count": 5,
   "metadata": {},
   "outputs": [],
   "source": [
    "# hidden_nodes 隐藏层神经元个数\n",
    "elm = ELMClassification(hidden_nodes=150)"
   ]
  },
  {
   "cell_type": "code",
   "execution_count": 6,
   "metadata": {},
   "outputs": [
    {
     "name": "stderr",
     "output_type": "stream",
     "text": [
      "/Users/zhengd/anaconda3/envs/wzd/lib/python3.6/site-packages/sklearn/preprocessing/_encoders.py:415: FutureWarning: The handling of integer data will change in version 0.22. Currently, the categories are determined based on the range [0, max(values)], while in the future they will be determined based on the unique values.\n",
      "If you want the future behaviour and silence this warning, you can specify \"categories='auto'\".\n",
      "In case you used a LabelEncoder before this OneHotEncoder to convert the categories to integers, then you can now use the OneHotEncoder directly.\n",
      "  warnings.warn(msg, FutureWarning)\n"
     ]
    }
   ],
   "source": [
    "elm.fit(X_train_standard, y_train)"
   ]
  },
  {
   "cell_type": "code",
   "execution_count": 7,
   "metadata": {},
   "outputs": [
    {
     "name": "stdout",
     "output_type": "stream",
     "text": [
      "acc: 0.7333333333333333, precision: 0.7424242424242425, recall: 0.7305555555555555, f1: 0.7328587168404103\n"
     ]
    },
    {
     "data": {
      "text/plain": [
       "(0.7333333333333333,\n",
       " 0.7424242424242425,\n",
       " 0.7305555555555555,\n",
       " 0.7328587168404103)"
      ]
     },
     "execution_count": 7,
     "metadata": {},
     "output_type": "execute_result"
    }
   ],
   "source": [
    "elm.score(X_test_standard, y_test)"
   ]
  },
  {
   "cell_type": "code",
   "execution_count": 8,
   "metadata": {},
   "outputs": [
    {
     "data": {
      "image/png": "[encoded data removed]",
      "text/plain": [
       "<Figure size 432x288 with 2 Axes>"
      ]
     },
     "metadata": {
      "needs_background": "light"
     },
     "output_type": "display_data"
    },
    {
     "name": "stdout",
     "output_type": "stream",
     "text": [
      "Save the picture successfully!\n"
     ]
    }
   ],
   "source": [
    "import os\n",
    "\n",
    "save_path = 'Example_save_resultes/Classification/save_png'\n",
    "if not os.path.exists(save_path):\n",
    "    os.makedirs(save_path)\n",
    "save_file = os.path.join(save_path, 'elm_clf.png')\n",
    "elm.confusion_matrix_result(X_test_standard, y_test, save_file=save_file, is_show=True)"
   ]
  },
  {
   "cell_type": "markdown",
   "metadata": {},
   "source": [
    "### 使用网格搜索，调用 GridSearch 里面的 ELMRegressionGridSearch 函数"
   ]
  },
  {
   "cell_type": "code",
   "execution_count": 9,
   "metadata": {
    "scrolled": false
   },
   "outputs": [
    {
     "name": "stdout",
     "output_type": "stream",
     "text": [
      "the neuron numbers of hidden layer:  5\n",
      "acc: 0.8666666666666667, precision: 0.8666666666666666, recall: 0.875, f1: 0.8653198653198654\n",
      "================================\n",
      "the neuron numbers of hidden layer:  10\n",
      "acc: 0.9333333333333333, precision: 0.9305555555555555, recall: 0.9305555555555555, f1: 0.9305555555555555\n",
      "================================\n",
      "the neuron numbers of hidden layer:  15\n",
      "acc: 0.9666666666666667, precision: 0.9629629629629629, recall: 0.9722222222222222, f1: 0.9658994032395567\n",
      "================================\n",
      "the neuron numbers of hidden layer:  20\n",
      "acc: 1.0, precision: 1.0, recall: 1.0, f1: 1.0\n",
      "================================\n",
      "the neuron numbers of hidden layer:  25\n",
      "acc: 0.9666666666666667, precision: 0.9743589743589745, recall: 0.9583333333333334, f1: 0.9644444444444445\n",
      "================================\n",
      "the neuron numbers of hidden layer:  30\n",
      "acc: 1.0, precision: 1.0, recall: 1.0, f1: 1.0\n",
      "================================\n",
      "the neuron numbers of hidden layer:  35\n",
      "acc: 1.0, precision: 1.0, recall: 1.0, f1: 1.0\n",
      "================================\n",
      "the neuron numbers of hidden layer:  40\n",
      "acc: 1.0, precision: 1.0, recall: 1.0, f1: 1.0\n",
      "================================\n",
      "the neuron numbers of hidden layer:  45\n",
      "acc: 1.0, precision: 1.0, recall: 1.0, f1: 1.0\n",
      "================================\n",
      "the neuron numbers of hidden layer:  50\n",
      "acc: 1.0, precision: 1.0, recall: 1.0, f1: 1.0\n",
      "================================\n",
      "the neuron numbers of hidden layer:  55\n",
      "acc: 1.0, precision: 1.0, recall: 1.0, f1: 1.0\n",
      "================================\n",
      "the neuron numbers of hidden layer:  60\n",
      "acc: 0.9666666666666667, precision: 0.9629629629629629, recall: 0.9722222222222222, f1: 0.9658994032395567\n",
      "================================\n",
      "the neuron numbers of hidden layer:  65\n",
      "acc: 0.9666666666666667, precision: 0.9743589743589745, recall: 0.9583333333333334, f1: 0.9644444444444445\n",
      "================================\n",
      "the neuron numbers of hidden layer:  70\n",
      "acc: 0.9666666666666667, precision: 0.9743589743589745, recall: 0.9583333333333334, f1: 0.9644444444444445\n",
      "================================\n",
      "the neuron numbers of hidden layer:  75\n",
      "acc: 0.9333333333333333, precision: 0.9523809523809524, recall: 0.9166666666666666, f1: 0.9267399267399267\n",
      "================================\n",
      "the neuron numbers of hidden layer:  80\n",
      "acc: 0.9666666666666667, precision: 0.9629629629629629, recall: 0.9722222222222222, f1: 0.9658994032395567\n",
      "================================\n",
      "the neuron numbers of hidden layer:  85\n",
      "acc: 0.9, precision: 0.9090909090909092, recall: 0.9111111111111111, f1: 0.8995215311004784\n",
      "================================\n",
      "the neuron numbers of hidden layer:  90\n",
      "acc: 0.9, precision: 0.8956228956228957, recall: 0.9027777777777778, f1: 0.8976982097186701\n",
      "================================\n",
      "the neuron numbers of hidden layer:  95\n",
      "acc: 0.9333333333333333, precision: 0.9305555555555555, recall: 0.9305555555555555, f1: 0.9305555555555555\n",
      "================================\n",
      "the neuron numbers of hidden layer:  100\n",
      "acc: 0.8666666666666667, precision: 0.8653846153846154, recall: 0.8555555555555555, f1: 0.859122807017544\n",
      "================================\n",
      "the neuron numbers of hidden layer:  105\n",
      "acc: 0.7, precision: 0.7416666666666667, recall: 0.6916666666666668, f1: 0.7050653594771242\n",
      "================================\n",
      "the neuron numbers of hidden layer:  110\n",
      "acc: 0.8, precision: 0.8166666666666668, recall: 0.8083333333333332, f1: 0.8055555555555555\n",
      "================================\n",
      "the neuron numbers of hidden layer:  115\n",
      "acc: 0.5, precision: 0.5982905982905983, recall: 0.5, f1: 0.5155555555555557\n",
      "================================\n",
      "the neuron numbers of hidden layer:  120\n",
      "acc: 0.43333333333333335, precision: 0.5980392156862745, recall: 0.44722222222222224, f1: 0.4386946386946387\n",
      "================================\n",
      "the neuron numbers of hidden layer:  125\n",
      "acc: 0.7666666666666667, precision: 0.787878787878788, recall: 0.7666666666666666, f1: 0.7676921773031612\n",
      "================================\n",
      "the neuron numbers of hidden layer:  130\n",
      "acc: 0.6333333333333333, precision: 0.6792929292929294, recall: 0.6361111111111111, f1: 0.644392844857241\n",
      "================================\n",
      "the neuron numbers of hidden layer:  135\n",
      "acc: 0.6666666666666666, precision: 0.7142857142857143, recall: 0.6888888888888888, f1: 0.6730462519936204\n",
      "================================\n",
      "the neuron numbers of hidden layer:  140\n",
      "acc: 0.7333333333333333, precision: 0.75, recall: 0.725, f1: 0.7314814814814815\n",
      "================================\n",
      "the neuron numbers of hidden layer:  145\n",
      "acc: 0.7666666666666667, precision: 0.7724358974358975, recall: 0.7583333333333333, f1: 0.7641228070175439\n",
      "================================\n",
      "the neuron numbers of hidden layer:  150\n",
      "acc: 0.7333333333333333, precision: 0.75, recall: 0.725, f1: 0.7314814814814815\n",
      "================================\n",
      "the neuron numbers of hidden layer:  155\n",
      "acc: 0.6666666666666666, precision: 0.712121212121212, recall: 0.6777777777777777, f1: 0.6774083546462063\n",
      "================================\n",
      "the neuron numbers of hidden layer:  160\n",
      "acc: 0.8, precision: 0.8181818181818182, recall: 0.8083333333333332, f1: 0.8027798966014069\n",
      "================================\n",
      "the neuron numbers of hidden layer:  165\n",
      "acc: 0.7333333333333333, precision: 0.7555555555555555, recall: 0.7388888888888889, f1: 0.7407407407407408\n",
      "================================\n",
      "the neuron numbers of hidden layer:  170\n",
      "acc: 0.7333333333333333, precision: 0.7407407407407408, recall: 0.7305555555555555, f1: 0.7340901272789818\n",
      "================================\n",
      "the neuron numbers of hidden layer:  175\n",
      "acc: 0.8666666666666667, precision: 0.873015873015873, recall: 0.8472222222222222, f1: 0.8534798534798536\n",
      "================================\n",
      "the neuron numbers of hidden layer:  180\n",
      "acc: 0.8, precision: 0.8119658119658119, recall: 0.7944444444444444, f1: 0.7982570806100219\n",
      "================================\n",
      "the neuron numbers of hidden layer:  185\n",
      "acc: 0.7, precision: 0.7142857142857143, recall: 0.6833333333333332, f1: 0.6937321937321937\n",
      "================================\n",
      "the neuron numbers of hidden layer:  190\n",
      "acc: 0.8666666666666667, precision: 0.8809523809523809, recall: 0.8555555555555555, f1: 0.8645074224021592\n",
      "================================\n",
      "the neuron numbers of hidden layer:  195\n",
      "acc: 0.8333333333333334, precision: 0.8393939393939395, recall: 0.8416666666666667, f1: 0.8359182981608612\n",
      "================================\n",
      "============ The end!!! ==============\n",
      "the neuron numbers of hidden layer:  20\n",
      "acc: 1.0, precision: 1.0, recall: 1.0, f1: 1.0\n"
     ]
    },
    {
     "data": {
      "image/png": "[encoded data removed]",
      "text/plain": [
       "<Figure size 432x288 with 2 Axes>"
      ]
     },
     "metadata": {},
     "output_type": "display_data"
    },
    {
     "name": "stdout",
     "output_type": "stream",
     "text": [
      "Save the picture successfully!\n"
     ]
    }
   ],
   "source": [
    "from frames.GridSearch import ElmClassificationGridSearch\n",
    "\n",
    "# hidden_nodes 搜索上限\n",
    "# gap 间隔多少神经元进行搜索，默认 10\n",
    "# is_show 是否展示结果图\n",
    "prediction = ElmClassificationGridSearch(X_train_standard, X_test_standard, y_train, y_test, hidden_nodes=200, gap=5, is_show=True) "
   ]
  },
  {
   "cell_type": "markdown",
   "metadata": {},
   "source": [
    "找到最好的 hidden number 是 20"
   ]
  },
  {
   "cell_type": "code",
   "execution_count": 12,
   "metadata": {},
   "outputs": [],
   "source": [
    "elm2 = ELMClassification(hidden_nodes=20)\n",
    "elm2.fit(X_train_standard, y_train)"
   ]
  },
  {
   "cell_type": "code",
   "execution_count": 13,
   "metadata": {},
   "outputs": [
    {
     "name": "stdout",
     "output_type": "stream",
     "text": [
      "acc: 0.9666666666666667, precision: 0.9743589743589745, recall: 0.9583333333333334, f1: 0.9644444444444445\n"
     ]
    },
    {
     "data": {
      "text/plain": [
       "(0.9666666666666667,\n",
       " 0.9743589743589745,\n",
       " 0.9583333333333334,\n",
       " 0.9644444444444445)"
      ]
     },
     "execution_count": 13,
     "metadata": {},
     "output_type": "execute_result"
    }
   ],
   "source": [
    "elm2.score(X_test_standard, y_test)"
   ]
  },
  {
   "cell_type": "code",
   "execution_count": 14,
   "metadata": {},
   "outputs": [
    {
     "data": {
      "image/png": "[encoded data removed]",
      "text/plain": [
       "<Figure size 432x288 with 2 Axes>"
      ]
     },
     "metadata": {},
     "output_type": "display_data"
    },
    {
     "name": "stdout",
     "output_type": "stream",
     "text": [
      "Save the picture successfully!\n"
     ]
    }
   ],
   "source": [
    "save_path = 'Example_save_resultes/Classification/save_png'\n",
    "if not os.path.exists(save_path):\n",
    "    os.makedirs(save_path)\n",
    "save_file = os.path.join(save_path, 'elm_cfm2.png')\n",
    "elm2.confusion_matrix_result(X_test_standard, y_test, save_file, is_show=True)"
   ]
  },
  {
   "cell_type": "markdown",
   "metadata": {},
   "source": [
    "### 保存值"
   ]
  },
  {
   "cell_type": "code",
   "execution_count": 15,
   "metadata": {},
   "outputs": [
    {
     "name": "stdout",
     "output_type": "stream",
     "text": [
      "Save results success!\n"
     ]
    }
   ],
   "source": [
    "result_path = './Example_save_resultes/Classification/'\n",
    "if not os.path.exists(result_path):\n",
    "    os.makedirs(result_path)\n",
    "results_file = os.path.join(result_path, 'elm_Classification.csv')\n",
    "elm.save_result(is_standard=True, Dimensionality_reduction_method='None', save_path=results_file)"
   ]
  },
  {
   "cell_type": "code",
   "execution_count": null,
   "metadata": {},
   "outputs": [],
   "source": []
  }
 ],
 "metadata": {
  "kernelspec": {
   "display_name": "Python 3",
   "language": "python",
   "name": "python3"
  },
  "language_info": {
   "codemirror_mode": {
    "name": "ipython",
    "version": 3
   },
   "file_extension": ".py",
   "mimetype": "text/x-python",
   "name": "python",
   "nbconvert_exporter": "python",
   "pygments_lexer": "ipython3",
   "version": "3.6.2"
  }
 },
 "nbformat": 4,
 "nbformat_minor": 2
}
