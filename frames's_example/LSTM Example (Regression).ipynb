{
 "cells": [
  {
   "cell_type": "markdown",
   "metadata": {},
   "source": [
    "## 长短时神经网络——Regression example"
   ]
  },
  {
   "cell_type": "markdown",
   "metadata": {},
   "source": [
    "这里刚好有个小 tip，我们做 两个 model\n",
    "\n",
    "即：是否对 y 进行标准化并不是一个**对错问题，且一般不对 y 进行标准化操作！**\n",
    "\n",
    "值得注意的问题是：\n",
    "1. 不对 y 进行标准化，收敛较慢，loss 可能会大一些，但精度有保证。\n",
    "2. 对 y 进行标准化后，最后要对 y 反标准化，虽然收敛速度会加快，但容易过拟合，且在反标准化的过程中，会使精度丢失！"
   ]
  },
  {
   "cell_type": "markdown",
   "metadata": {},
   "source": [
    "### model 1: 不对 y 进行标准化"
   ]
  },
  {
   "cell_type": "code",
   "execution_count": 35,
   "metadata": {},
   "outputs": [],
   "source": [
    "import numpy as np\n",
    "import pandas as pd"
   ]
  },
  {
   "cell_type": "code",
   "execution_count": 36,
   "metadata": {},
   "outputs": [],
   "source": [
    "# 导入数据集\n",
    "stock_file = './dataset/dataset.csv'\n",
    "stock = pd.read_csv(stock_file)"
   ]
  },
  {
   "cell_type": "code",
   "execution_count": 37,
   "metadata": {},
   "outputs": [
    {
     "data": {
      "text/html": [
       "<div>\n",
       "<style scoped>\n",
       "    .dataframe tbody tr th:only-of-type {\n",
       "        vertical-align: middle;\n",
       "    }\n",
       "\n",
       "    .dataframe tbody tr th {\n",
       "        vertical-align: top;\n",
       "    }\n",
       "\n",
       "    .dataframe thead th {\n",
       "        text-align: right;\n",
       "    }\n",
       "</style>\n",
       "<table border=\"1\" class=\"dataframe\">\n",
       "  <thead>\n",
       "    <tr style=\"text-align: right;\">\n",
       "      <th></th>\n",
       "      <th>Month</th>\n",
       "      <th>values</th>\n",
       "    </tr>\n",
       "  </thead>\n",
       "  <tbody>\n",
       "    <tr>\n",
       "      <th>0</th>\n",
       "      <td>Jan-49</td>\n",
       "      <td>112</td>\n",
       "    </tr>\n",
       "    <tr>\n",
       "      <th>1</th>\n",
       "      <td>Feb-49</td>\n",
       "      <td>118</td>\n",
       "    </tr>\n",
       "    <tr>\n",
       "      <th>2</th>\n",
       "      <td>Mar-49</td>\n",
       "      <td>132</td>\n",
       "    </tr>\n",
       "    <tr>\n",
       "      <th>3</th>\n",
       "      <td>Apr-49</td>\n",
       "      <td>129</td>\n",
       "    </tr>\n",
       "    <tr>\n",
       "      <th>4</th>\n",
       "      <td>May-49</td>\n",
       "      <td>121</td>\n",
       "    </tr>\n",
       "  </tbody>\n",
       "</table>\n",
       "</div>"
      ],
      "text/plain": [
       "    Month  values\n",
       "0  Jan-49     112\n",
       "1  Feb-49     118\n",
       "2  Mar-49     132\n",
       "3  Apr-49     129\n",
       "4  May-49     121"
      ]
     },
     "execution_count": 37,
     "metadata": {},
     "output_type": "execute_result"
    }
   ],
   "source": [
    "stock.head(5)"
   ]
  },
  {
   "cell_type": "code",
   "execution_count": 38,
   "metadata": {},
   "outputs": [],
   "source": [
    "label = stock['values']"
   ]
  },
  {
   "cell_type": "code",
   "execution_count": 39,
   "metadata": {},
   "outputs": [
    {
     "data": {
      "image/png": "[encoded data removed]",
      "text/plain": [
       "<Figure size 432x288 with 1 Axes>"
      ]
     },
     "metadata": {
      "needs_background": "light"
     },
     "output_type": "display_data"
    }
   ],
   "source": [
    "import matplotlib.pyplot as plt\n",
    "%matplotlib inline\n",
    "\n",
    "plt.plot(range(len(label)), label, 'r--')\n",
    "plt.show()"
   ]
  },
  {
   "cell_type": "code",
   "execution_count": 40,
   "metadata": {},
   "outputs": [
    {
     "name": "stdout",
     "output_type": "stream",
     "text": [
      "object\n"
     ]
    },
    {
     "data": {
      "text/plain": [
       "(144, 1)"
      ]
     },
     "execution_count": 40,
     "metadata": {},
     "output_type": "execute_result"
    }
   ],
   "source": [
    "dataset = stock.values[:, -1:]\n",
    "print(dataset.dtype)\n",
    "dataset.shape"
   ]
  },
  {
   "cell_type": "code",
   "execution_count": 41,
   "metadata": {},
   "outputs": [
    {
     "name": "stdout",
     "output_type": "stream",
     "text": [
      "float32\n"
     ]
    }
   ],
   "source": [
    "# Because the type of dataset is object, we need to change the type to 'float32'\n",
    "dataset = dataset.astype(np.float32)\n",
    "print(dataset.dtype)"
   ]
  },
  {
   "cell_type": "markdown",
   "metadata": {},
   "source": [
    "### 调用 tools 里面的 create_dataset 函数，构造适应的数据集，look_back 默认为 7，即 (x-7) 天预测第 x 天"
   ]
  },
  {
   "cell_type": "markdown",
   "metadata": {},
   "source": [
    "构造数据集的时候，一般而言，会将 y 也作为 X 的一部分，故 need_label 默认为 True， 当然也可以设置为 False，不用 y 作为 input"
   ]
  },
  {
   "cell_type": "code",
   "execution_count": 42,
   "metadata": {},
   "outputs": [],
   "source": [
    "from frames.tools import create_dataset\n",
    "\n",
    "X, y = create_dataset(dataset, look_back=2, need_label=True)"
   ]
  },
  {
   "cell_type": "code",
   "execution_count": 43,
   "metadata": {},
   "outputs": [
    {
     "name": "stdout",
     "output_type": "stream",
     "text": [
      "(142, 2, 1)\n",
      "(142, 1)\n"
     ]
    }
   ],
   "source": [
    "print(X.shape)\n",
    "print(y.shape)"
   ]
  },
  {
   "cell_type": "markdown",
   "metadata": {},
   "source": [
    "### 切割数据集"
   ]
  },
  {
   "cell_type": "code",
   "execution_count": 44,
   "metadata": {},
   "outputs": [],
   "source": [
    "from frames.tools import train_test_split\n",
    "\n",
    "X_train, X_test, y_train, y_test = train_test_split(X, y, test_size=0.2, random_state=19)"
   ]
  },
  {
   "cell_type": "code",
   "execution_count": 45,
   "metadata": {},
   "outputs": [
    {
     "name": "stdout",
     "output_type": "stream",
     "text": [
      "(113, 2, 1) (29, 2, 1) (113, 1) (29, 1)\n",
      "float32 float32\n"
     ]
    }
   ],
   "source": [
    "print(X_train.shape, X_test.shape, y_train.shape, y_test.shape)\n",
    "print(X_train.dtype, y_train.dtype)"
   ]
  },
  {
   "cell_type": "markdown",
   "metadata": {},
   "source": [
    "### 调用 DeeplearningRegression 里面的 LSTM 框架"
   ]
  },
  {
   "cell_type": "code",
   "execution_count": 63,
   "metadata": {},
   "outputs": [],
   "source": [
    "from frames.DeeplearningRegression import LSTM\n",
    "\n",
    "'''\n",
    "参数说明：\n",
    "hidden_layers: 隐藏层神经元个数，传入 int\n",
    "num_layers: lstm 层数，传入 int\n",
    "learning rete: 学习率，这里可以是一个 float，也可以是一个 len=3 的 list，当 lr 是 list 的时候，采用梯度衰减策略\n",
    "activate function: 激活函数，默认 relu，改激活函数输入小写字符串即可，如：'tanh','sigmoid'\n",
    "dropout: 默认为 0，即不采用，这个参数是为了防止训练过拟合\n",
    "epoch: 训练批次，默认 2000\n",
    "batch_size: 默认 128\n",
    "\n",
    "save_path: 默认'LSTM_Results'\n",
    "is_standard: str\n",
    "Dimensionality_reduction_method: 降维方法\n",
    "'''\n",
    "save_path = 'Example_results/Regression/LSTM_Results'\n",
    "lstm = LSTM(learning_rate=[1e-2, 1e-5, 1e-7], num_layers=3, hidden_size=32, \n",
    "            epoch=10000, batch_size=256, save_path=save_path, \n",
    "            is_standard=False, Dimensionality_reduction_method='None') # 采用梯度衰减策略"
   ]
  },
  {
   "cell_type": "code",
   "execution_count": 64,
   "metadata": {
    "scrolled": true
   },
   "outputs": [
    {
     "name": "stdout",
     "output_type": "stream",
     "text": [
      "Training... epoch: 100, loss: 86612.6171875\n",
      "\u001b[1;35m Testing... epoch: 100, loss: 84681.203125 \u001b[0m!\n",
      "Training... epoch: 200, loss: 80010.6875\n",
      "\u001b[1;35m Testing... epoch: 200, loss: 78019.2734375 \u001b[0m!\n",
      "Training... epoch: 300, loss: 73956.3515625\n",
      "\u001b[1;35m Testing... epoch: 300, loss: 71905.828125 \u001b[0m!\n",
      "Training... epoch: 400, loss: 68359.6015625\n",
      "\u001b[1;35m Testing... epoch: 400, loss: 66251.296875 \u001b[0m!\n",
      "Training... epoch: 500, loss: 63179.4296875\n",
      "\u001b[1;35m Testing... epoch: 500, loss: 61014.6796875 \u001b[0m!\n",
      "Training... epoch: 600, loss: 58387.3125\n",
      "\u001b[1;35m Testing... epoch: 600, loss: 56167.41796875 \u001b[0m!\n",
      "Training... epoch: 700, loss: 53959.78125\n",
      "\u001b[1;35m Testing... epoch: 700, loss: 51686.078125 \u001b[0m!\n",
      "Training... epoch: 800, loss: 49876.05078125\n",
      "\u001b[1;35m Testing... epoch: 800, loss: 47549.83203125 \u001b[0m!\n",
      "Training... epoch: 900, loss: 46117.0078125\n",
      "\u001b[1;35m Testing... epoch: 900, loss: 43739.5859375 \u001b[0m!\n",
      "Training... epoch: 1000, loss: 42664.7265625\n",
      "\u001b[1;35m Testing... epoch: 1000, loss: 40237.40625 \u001b[0m!\n",
      "Training... epoch: 1100, loss: 39502.16796875\n",
      "\u001b[1;35m Testing... epoch: 1100, loss: 37026.265625 \u001b[0m!\n",
      "Training... epoch: 1200, loss: 36613.05078125\n",
      "\u001b[1;35m Testing... epoch: 1200, loss: 34089.890625 \u001b[0m!\n",
      "Training... epoch: 1300, loss: 33981.69921875\n",
      "\u001b[1;35m Testing... epoch: 1300, loss: 31412.619140625 \u001b[0m!\n",
      "Training... epoch: 1400, loss: 31592.982421875\n",
      "\u001b[1;35m Testing... epoch: 1400, loss: 28979.3359375 \u001b[0m!\n",
      "Training... epoch: 1500, loss: 29432.24609375\n",
      "\u001b[1;35m Testing... epoch: 1500, loss: 26775.408203125 \u001b[0m!\n",
      "Training... epoch: 1600, loss: 27485.267578125\n",
      "\u001b[1;35m Testing... epoch: 1600, loss: 24786.623046875 \u001b[0m!\n",
      "Training... epoch: 1700, loss: 25738.224609375\n",
      "\u001b[1;35m Testing... epoch: 1700, loss: 22999.177734375 \u001b[0m!\n",
      "Training... epoch: 1800, loss: 24177.6484375\n",
      "\u001b[1;35m Testing... epoch: 1800, loss: 21399.6328125 \u001b[0m!\n",
      "Training... epoch: 1900, loss: 22790.43359375\n",
      "\u001b[1;35m Testing... epoch: 1900, loss: 19974.90234375 \u001b[0m!\n",
      "Training... epoch: 2000, loss: 21563.8203125\n",
      "\u001b[1;35m Testing... epoch: 2000, loss: 18712.248046875 \u001b[0m!\n",
      "Training... epoch: 2100, loss: 20485.384765625\n",
      "\u001b[1;35m Testing... epoch: 2100, loss: 17599.265625 \u001b[0m!\n",
      "Training... epoch: 2200, loss: 19543.041015625\n",
      "\u001b[1;35m Testing... epoch: 2200, loss: 16623.90234375 \u001b[0m!\n",
      "Training... epoch: 2300, loss: 18725.078125\n",
      "\u001b[1;35m Testing... epoch: 2300, loss: 15774.4658203125 \u001b[0m!\n",
      "Training... epoch: 2400, loss: 18020.142578125\n",
      "\u001b[1;35m Testing... epoch: 2400, loss: 15039.619140625 \u001b[0m!\n",
      "Training... epoch: 2500, loss: 17417.296875\n",
      "\u001b[1;35m Testing... epoch: 2500, loss: 14408.451171875 \u001b[0m!\n",
      "Training... epoch: 2600, loss: 16906.02734375\n",
      "\u001b[1;35m Testing... epoch: 2600, loss: 13870.4599609375 \u001b[0m!\n",
      "Training... epoch: 2700, loss: 16476.294921875\n",
      "\u001b[1;35m Testing... epoch: 2700, loss: 13415.6171875 \u001b[0m!\n",
      "Training... epoch: 2800, loss: 16118.5537109375\n",
      "\u001b[1;35m Testing... epoch: 2800, loss: 13034.3857421875 \u001b[0m!\n",
      "Training... epoch: 2900, loss: 15823.810546875\n",
      "\u001b[1;35m Testing... epoch: 2900, loss: 12717.7724609375 \u001b[0m!\n",
      "Training... epoch: 3000, loss: 15583.654296875\n",
      "\u001b[1;35m Testing... epoch: 3000, loss: 12457.359375 \u001b[0m!\n",
      "Training... epoch: 3100, loss: 15390.2880859375\n",
      "\u001b[1;35m Testing... epoch: 3100, loss: 12245.33984375 \u001b[0m!\n",
      "Training... epoch: 3200, loss: 15236.56640625\n",
      "\u001b[1;35m Testing... epoch: 3200, loss: 12074.5419921875 \u001b[0m!\n",
      "Training... epoch: 3300, loss: 15116.0107421875\n",
      "\u001b[1;35m Testing... epoch: 3300, loss: 11938.4609375 \u001b[0m!\n",
      "Training... epoch: 3400, loss: 15022.828125\n",
      "\u001b[1;35m Testing... epoch: 3400, loss: 11831.2587890625 \u001b[0m!\n",
      "Training... epoch: 3500, loss: 14951.9072265625\n",
      "\u001b[1;35m Testing... epoch: 3500, loss: 11747.7763671875 \u001b[0m!\n",
      "Training... epoch: 3600, loss: 14898.8125\n",
      "\u001b[1;35m Testing... epoch: 3600, loss: 11683.5166015625 \u001b[0m!\n",
      "Training... epoch: 3700, loss: 14859.7509765625\n",
      "\u001b[1;35m Testing... epoch: 3700, loss: 11634.6181640625 \u001b[0m!\n",
      "Training... epoch: 3800, loss: 14831.5390625\n",
      "\u001b[1;35m Testing... epoch: 3800, loss: 11597.818359375 \u001b[0m!\n",
      "Training... epoch: 3900, loss: 14811.5615234375\n",
      "\u001b[1;35m Testing... epoch: 3900, loss: 11570.416015625 \u001b[0m!\n",
      "Training... epoch: 4000, loss: 14797.7041015625\n",
      "\u001b[1;35m Testing... epoch: 4000, loss: 11550.2080078125 \u001b[0m!\n",
      "Training... epoch: 4100, loss: 14788.2958984375\n",
      "\u001b[1;35m Testing... epoch: 4100, loss: 11535.423828125 \u001b[0m!\n",
      "Training... epoch: 4200, loss: 14782.064453125\n",
      "\u001b[1;35m Testing... epoch: 4200, loss: 11524.69921875 \u001b[0m!\n",
      "Training... epoch: 4300, loss: 14778.033203125\n",
      "\u001b[1;35m Testing... epoch: 4300, loss: 11516.95703125 \u001b[0m!\n",
      "Training... epoch: 4400, loss: 14775.490234375\n",
      "\u001b[1;35m Testing... epoch: 4400, loss: 11511.390625 \u001b[0m!\n",
      "Training... epoch: 4500, loss: 14773.9306640625\n",
      "\u001b[1;35m Testing... epoch: 4500, loss: 11507.3984375 \u001b[0m!\n",
      "Training... epoch: 4600, loss: 14773.0009765625\n",
      "\u001b[1;35m Testing... epoch: 4600, loss: 11504.541015625 \u001b[0m!\n",
      "Training... epoch: 4700, loss: 14772.4638671875\n",
      "\u001b[1;35m Testing... epoch: 4700, loss: 11502.498046875 \u001b[0m!\n",
      "Training... epoch: 4800, loss: 14772.162109375\n",
      "\u001b[1;35m Testing... epoch: 4800, loss: 11501.0400390625 \u001b[0m!\n",
      "Training... epoch: 4900, loss: 14771.9990234375\n",
      "\u001b[1;35m Testing... epoch: 4900, loss: 11500.00390625 \u001b[0m!\n",
      "Training... epoch: 5000, loss: 14771.9140625\n",
      "\u001b[1;35m Testing... epoch: 5000, loss: 11499.2705078125 \u001b[0m!\n",
      "Training... epoch: 5100, loss: 14771.87109375\n",
      "\u001b[1;35m Testing... epoch: 5100, loss: 11498.755859375 \u001b[0m!\n",
      "Training... epoch: 5200, loss: 14771.849609375\n",
      "\u001b[1;35m Testing... epoch: 5200, loss: 11498.3984375 \u001b[0m!\n",
      "Training... epoch: 5300, loss: 14771.83984375\n",
      "\u001b[1;35m Testing... epoch: 5300, loss: 11498.1533203125 \u001b[0m!\n",
      "Training... epoch: 5400, loss: 14771.8359375\n",
      "\u001b[1;35m Testing... epoch: 5400, loss: 11497.98828125 \u001b[0m!\n",
      "Training... epoch: 5500, loss: 14771.833984375\n",
      "\u001b[1;35m Testing... epoch: 5500, loss: 11497.87890625 \u001b[0m!\n",
      "Training... epoch: 5600, loss: 14771.8330078125\n",
      "\u001b[1;35m Testing... epoch: 5600, loss: 11497.8076171875 \u001b[0m!\n",
      "Training... epoch: 5700, loss: 14771.8330078125\n",
      "\u001b[1;35m Testing... epoch: 5700, loss: 11497.763671875 \u001b[0m!\n",
      "Training... epoch: 5800, loss: 14771.8330078125\n",
      "\u001b[1;35m Testing... epoch: 5800, loss: 11497.7353515625 \u001b[0m!\n",
      "Training... epoch: 5900, loss: 14771.8330078125\n",
      "\u001b[1;35m Testing... epoch: 5900, loss: 11497.720703125 \u001b[0m!\n",
      "Training... epoch: 6000, loss: 14771.8330078125\n",
      "\u001b[1;35m Testing... epoch: 6000, loss: 11497.7080078125 \u001b[0m!\n",
      "Training... epoch: 6100, loss: 14771.8330078125\n",
      "\u001b[1;35m Testing... epoch: 6100, loss: 11497.7080078125 \u001b[0m!\n",
      "Training... epoch: 6200, loss: 14771.8330078125\n",
      "\u001b[1;35m Testing... epoch: 6200, loss: 11497.7080078125 \u001b[0m!\n",
      "Training... epoch: 6300, loss: 14771.8330078125\n",
      "\u001b[1;35m Testing... epoch: 6300, loss: 11497.70703125 \u001b[0m!\n",
      "Training... epoch: 6400, loss: 14771.8330078125\n",
      "\u001b[1;35m Testing... epoch: 6400, loss: 11497.7041015625 \u001b[0m!\n",
      "Training... epoch: 6500, loss: 14771.8330078125\n",
      "\u001b[1;35m Testing... epoch: 6500, loss: 11497.7041015625 \u001b[0m!\n",
      "Training... epoch: 6600, loss: 14771.8330078125\n",
      "\u001b[1;35m Testing... epoch: 6600, loss: 11497.7041015625 \u001b[0m!\n",
      "Training... epoch: 6700, loss: 14771.8330078125\n",
      "\u001b[1;35m Testing... epoch: 6700, loss: 11497.7041015625 \u001b[0m!\n",
      "Training... epoch: 6800, loss: 14771.8330078125\n",
      "\u001b[1;35m Testing... epoch: 6800, loss: 11497.7041015625 \u001b[0m!\n",
      "Training... epoch: 6900, loss: 14771.8330078125\n",
      "\u001b[1;35m Testing... epoch: 6900, loss: 11497.7041015625 \u001b[0m!\n",
      "Training... epoch: 7000, loss: 14771.8330078125\n",
      "\u001b[1;35m Testing... epoch: 7000, loss: 11497.7041015625 \u001b[0m!\n",
      "Training... epoch: 7100, loss: 14771.8330078125\n",
      "\u001b[1;35m Testing... epoch: 7100, loss: 11497.7041015625 \u001b[0m!\n",
      "Training... epoch: 7200, loss: 14771.8330078125\n",
      "\u001b[1;35m Testing... epoch: 7200, loss: 11497.7041015625 \u001b[0m!\n",
      "Training... epoch: 7300, loss: 14771.8330078125\n",
      "\u001b[1;35m Testing... epoch: 7300, loss: 11497.7041015625 \u001b[0m!\n",
      "Training... epoch: 7400, loss: 14771.8330078125\n",
      "\u001b[1;35m Testing... epoch: 7400, loss: 11497.7041015625 \u001b[0m!\n",
      "Training... epoch: 7500, loss: 14771.8330078125\n",
      "\u001b[1;35m Testing... epoch: 7500, loss: 11497.7041015625 \u001b[0m!\n",
      "Training... epoch: 7600, loss: 14771.8330078125\n",
      "\u001b[1;35m Testing... epoch: 7600, loss: 11497.7041015625 \u001b[0m!\n",
      "Training... epoch: 7700, loss: 14771.8330078125\n",
      "\u001b[1;35m Testing... epoch: 7700, loss: 11497.7041015625 \u001b[0m!\n",
      "Training... epoch: 7800, loss: 14771.8330078125\n",
      "\u001b[1;35m Testing... epoch: 7800, loss: 11497.7041015625 \u001b[0m!\n"
     ]
    },
    {
     "name": "stdout",
     "output_type": "stream",
     "text": [
      "Training... epoch: 7900, loss: 14771.8330078125\n",
      "\u001b[1;35m Testing... epoch: 7900, loss: 11497.7041015625 \u001b[0m!\n",
      "Training... epoch: 8000, loss: 14771.8330078125\n",
      "\u001b[1;35m Testing... epoch: 8000, loss: 11497.7041015625 \u001b[0m!\n",
      "Training... epoch: 8100, loss: 14771.8330078125\n",
      "\u001b[1;35m Testing... epoch: 8100, loss: 11497.7041015625 \u001b[0m!\n",
      "Training... epoch: 8200, loss: 14771.8330078125\n",
      "\u001b[1;35m Testing... epoch: 8200, loss: 11497.7041015625 \u001b[0m!\n",
      "Training... epoch: 8300, loss: 14771.8330078125\n",
      "\u001b[1;35m Testing... epoch: 8300, loss: 11497.7041015625 \u001b[0m!\n",
      "Training... epoch: 8400, loss: 14771.8330078125\n",
      "\u001b[1;35m Testing... epoch: 8400, loss: 11497.7041015625 \u001b[0m!\n",
      "Training... epoch: 8500, loss: 14771.8330078125\n",
      "\u001b[1;35m Testing... epoch: 8500, loss: 11497.7041015625 \u001b[0m!\n",
      "Training... epoch: 8600, loss: 14771.8330078125\n",
      "\u001b[1;35m Testing... epoch: 8600, loss: 11497.7041015625 \u001b[0m!\n",
      "Training... epoch: 8700, loss: 14771.8330078125\n",
      "\u001b[1;35m Testing... epoch: 8700, loss: 11497.7041015625 \u001b[0m!\n",
      "Training... epoch: 8800, loss: 14771.8330078125\n",
      "\u001b[1;35m Testing... epoch: 8800, loss: 11497.7041015625 \u001b[0m!\n",
      "Training... epoch: 8900, loss: 14771.8330078125\n",
      "\u001b[1;35m Testing... epoch: 8900, loss: 11497.7041015625 \u001b[0m!\n",
      "Training... epoch: 9000, loss: 14771.8330078125\n",
      "\u001b[1;35m Testing... epoch: 9000, loss: 11497.7041015625 \u001b[0m!\n",
      "Training... epoch: 9100, loss: 14771.8330078125\n",
      "\u001b[1;35m Testing... epoch: 9100, loss: 11497.7041015625 \u001b[0m!\n",
      "Training... epoch: 9200, loss: 14771.8330078125\n",
      "\u001b[1;35m Testing... epoch: 9200, loss: 11497.7041015625 \u001b[0m!\n",
      "Training... epoch: 9300, loss: 14771.8330078125\n",
      "\u001b[1;35m Testing... epoch: 9300, loss: 11497.7041015625 \u001b[0m!\n",
      "Training... epoch: 9400, loss: 14771.8330078125\n",
      "\u001b[1;35m Testing... epoch: 9400, loss: 11497.7041015625 \u001b[0m!\n",
      "Training... epoch: 9500, loss: 14771.8330078125\n",
      "\u001b[1;35m Testing... epoch: 9500, loss: 11497.7041015625 \u001b[0m!\n",
      "Training... epoch: 9600, loss: 14771.8330078125\n",
      "\u001b[1;35m Testing... epoch: 9600, loss: 11497.7041015625 \u001b[0m!\n",
      "Training... epoch: 9700, loss: 14771.8330078125\n",
      "\u001b[1;35m Testing... epoch: 9700, loss: 11497.7041015625 \u001b[0m!\n",
      "Training... epoch: 9800, loss: 14771.8330078125\n",
      "\u001b[1;35m Testing... epoch: 9800, loss: 11497.7041015625 \u001b[0m!\n",
      "Training... epoch: 9900, loss: 14771.8330078125\n",
      "\u001b[1;35m Testing... epoch: 9900, loss: 11497.7041015625 \u001b[0m!\n",
      "Training... epoch: 10000, loss: 14771.8330078125\n",
      "\u001b[1;35m Testing... epoch: 10000, loss: 11497.7041015625 \u001b[0m!\n",
      "Training completed!!! Time consuming: 55.88697910308838\n"
     ]
    }
   ],
   "source": [
    "lstm.fit(X_train, y_train, X_test, y_test)"
   ]
  },
  {
   "cell_type": "markdown",
   "metadata": {},
   "source": [
    "### 调用 score 得到结果"
   ]
  },
  {
   "cell_type": "code",
   "execution_count": 65,
   "metadata": {},
   "outputs": [
    {
     "name": "stdout",
     "output_type": "stream",
     "text": [
      "mse: 11497.705078125, rmse: 107.22735595703125, mae: 83.83660888671875, mape: 37.754037976264954, r2: -0.0006051091571499523, r2_adjusted: -0.03766455764445187, rmsle: 0.4132426679134369\n"
     ]
    }
   ],
   "source": [
    "lstm.score()"
   ]
  },
  {
   "cell_type": "markdown",
   "metadata": {},
   "source": [
    "### 调用 save 保存结果"
   ]
  },
  {
   "cell_type": "code",
   "execution_count": 66,
   "metadata": {},
   "outputs": [
    {
     "name": "stdout",
     "output_type": "stream",
     "text": [
      "Save results success!\n",
      "Save the value of prediction successfully!!\n",
      "Save the picture successfully!\n",
      "Save the picture of training loss successfully!\n",
      "Save the picture of testing loss  successfully!\n"
     ]
    }
   ],
   "source": [
    "lstm.save()"
   ]
  },
  {
   "cell_type": "markdown",
   "metadata": {},
   "source": [
    "# 对 y 进行标准化操作"
   ]
  },
  {
   "cell_type": "markdown",
   "metadata": {},
   "source": [
    "在机器学习里，认为 训练集（training set）的分布符合总体分布"
   ]
  },
  {
   "cell_type": "code",
   "execution_count": 50,
   "metadata": {},
   "outputs": [
    {
     "name": "stdout",
     "output_type": "stream",
     "text": [
      "the shape of dataset_standard is:  (144, 1)\n"
     ]
    }
   ],
   "source": [
    "# 对数据进行 标准化，将最后 百分之20，作为 测试集 \n",
    "# 但是这里标准化后还是要合并，后续要给数据格式进行处理\n",
    "train_size = int(len(dataset) * 0.8)\n",
    "data_train = dataset[:train_size]\n",
    "data_test = dataset[train_size:]\n",
    "\n",
    "from sklearn.preprocessing import StandardScaler\n",
    "\n",
    "standard = StandardScaler()\n",
    "standard.fit(data_train)\n",
    "\n",
    "data_train_standard = standard.transform(data_train)\n",
    "data_test_standard = standard.transform(data_test)\n",
    "\n",
    "# 合并\n",
    "dataset_standard = np.concatenate((data_train_standard, data_test_standard), axis=0)\n",
    "print('the shape of dataset_standard is: ', dataset_standard.shape)"
   ]
  },
  {
   "cell_type": "code",
   "execution_count": 51,
   "metadata": {},
   "outputs": [],
   "source": [
    "from frames.tools import create_dataset\n",
    "\n",
    "X, y = create_dataset(dataset_standard, look_back=2)"
   ]
  },
  {
   "cell_type": "code",
   "execution_count": 52,
   "metadata": {},
   "outputs": [],
   "source": [
    "from frames.tools import train_test_split\n",
    "\n",
    "X_train_standard, X_test_standard, y_train_standard, y_test_standard = train_test_split(X, y, test_size=0.2, random_state=19)"
   ]
  },
  {
   "cell_type": "code",
   "execution_count": 53,
   "metadata": {},
   "outputs": [],
   "source": [
    "from frames.DeeplearningRegression import LSTM\n",
    "\n",
    "'''\n",
    "参数说明：\n",
    "hidden_layers: 隐藏层神经元个数，传入 int\n",
    "num_layers: lstm 层数，传入 int\n",
    "learning rete: 学习率，这里可以是一个 float，也可以是一个 len=3 的 list，当 lr 是 list 的时候，采用梯度衰减策略\n",
    "activate function: 激活函数，默认 relu，改激活函数输入小写字符串即可，如：'tanh','sigmoid'\n",
    "dropout: 默认为 0，即不采用，这个参数是为了防止训练过拟合\n",
    "epoch: 训练批次，默认 2000\n",
    "batch_size: 默认 128\n",
    "\n",
    "save_path: 默认'LSTM_Results'\n",
    "is_standard: str\n",
    "Dimensionality_reduction_method: 降维方法\n",
    "'''\n",
    "save_path = 'Example_results/Regression/LSTM2_Results'\n",
    "lstm2 = LSTM(learning_rate=[1e-2, 1e-4, 1e-6], num_layers=2, hidden_size=32, \n",
    "            epoch=5000, batch_size=256, save_path=save_path, \n",
    "            is_standard=False, Dimensionality_reduction_method='None') # 采用梯度衰减策略"
   ]
  },
  {
   "cell_type": "code",
   "execution_count": 54,
   "metadata": {
    "scrolled": true
   },
   "outputs": [
    {
     "name": "stdout",
     "output_type": "stream",
     "text": [
      "Training... epoch: 100, loss: 0.0004980519297532737\n",
      "\u001b[1;35m Testing... epoch: 100, loss: 0.21542604267597198 \u001b[0m!\n",
      "Training... epoch: 200, loss: 0.0003365442098584026\n",
      "\u001b[1;35m Testing... epoch: 200, loss: 0.21347030997276306 \u001b[0m!\n",
      "Training... epoch: 300, loss: 0.0001928095007315278\n",
      "\u001b[1;35m Testing... epoch: 300, loss: 0.21637271344661713 \u001b[0m!\n",
      "Training... epoch: 400, loss: 0.0006651930161751807\n",
      "\u001b[1;35m Testing... epoch: 400, loss: 0.21776150166988373 \u001b[0m!\n",
      "Training... epoch: 500, loss: 0.0017281983746215701\n",
      "\u001b[1;35m Testing... epoch: 500, loss: 0.2221584916114807 \u001b[0m!\n",
      "Training... epoch: 600, loss: 0.000508377852384001\n",
      "\u001b[1;35m Testing... epoch: 600, loss: 0.2110598236322403 \u001b[0m!\n",
      "Training... epoch: 700, loss: 0.00023739668540656567\n",
      "\u001b[1;35m Testing... epoch: 700, loss: 0.21619276702404022 \u001b[0m!\n",
      "Training... epoch: 800, loss: 0.0001454413286410272\n",
      "\u001b[1;35m Testing... epoch: 800, loss: 0.21892528235912323 \u001b[0m!\n",
      "Training... epoch: 900, loss: 0.00011707716475939378\n",
      "\u001b[1;35m Testing... epoch: 900, loss: 0.2194836586713791 \u001b[0m!\n",
      "Training... epoch: 1000, loss: 0.00010674427903722972\n",
      "\u001b[1;35m Testing... epoch: 1000, loss: 0.21993330121040344 \u001b[0m!\n",
      "Training... epoch: 1100, loss: 0.0063386717811226845\n",
      "\u001b[1;35m Testing... epoch: 1100, loss: 0.21672096848487854 \u001b[0m!\n",
      "Training... epoch: 1200, loss: 0.0011168159544467926\n",
      "\u001b[1;35m Testing... epoch: 1200, loss: 0.22481006383895874 \u001b[0m!\n",
      "Training... epoch: 1300, loss: 0.0006340311374515295\n",
      "\u001b[1;35m Testing... epoch: 1300, loss: 0.22029632329940796 \u001b[0m!\n",
      "Training... epoch: 1400, loss: 0.0016025551594793797\n",
      "\u001b[1;35m Testing... epoch: 1400, loss: 0.2281537652015686 \u001b[0m!\n",
      "Training... epoch: 1500, loss: 0.00022116104082670063\n",
      "\u001b[1;35m Testing... epoch: 1500, loss: 0.22175130248069763 \u001b[0m!\n",
      "Training... epoch: 1600, loss: 0.0003067443030886352\n",
      "\u001b[1;35m Testing... epoch: 1600, loss: 0.22114679217338562 \u001b[0m!\n",
      "Training... epoch: 1700, loss: 7.687334436923265e-05\n",
      "\u001b[1;35m Testing... epoch: 1700, loss: 0.22139640152454376 \u001b[0m!\n",
      "Training... epoch: 1800, loss: 0.00011936288501601666\n",
      "\u001b[1;35m Testing... epoch: 1800, loss: 0.2188340723514557 \u001b[0m!\n",
      "Training... epoch: 1900, loss: 0.0006767308223061264\n",
      "\u001b[1;35m Testing... epoch: 1900, loss: 0.2105473428964615 \u001b[0m!\n",
      "Training... epoch: 2000, loss: 0.00017425986879970878\n",
      "\u001b[1;35m Testing... epoch: 2000, loss: 0.2103014439344406 \u001b[0m!\n",
      "Training... epoch: 2100, loss: 0.00023413440794683993\n",
      "\u001b[1;35m Testing... epoch: 2100, loss: 0.20791307091712952 \u001b[0m!\n",
      "Training... epoch: 2200, loss: 0.00017603325250092894\n",
      "\u001b[1;35m Testing... epoch: 2200, loss: 0.20664554834365845 \u001b[0m!\n",
      "Training... epoch: 2300, loss: 0.0001147951406892389\n",
      "\u001b[1;35m Testing... epoch: 2300, loss: 0.206268772482872 \u001b[0m!\n",
      "Training... epoch: 2400, loss: 0.000129495223518461\n",
      "\u001b[1;35m Testing... epoch: 2400, loss: 0.20478494465351105 \u001b[0m!\n",
      "Training... epoch: 2500, loss: 0.00018118065781891346\n",
      "\u001b[1;35m Testing... epoch: 2500, loss: 0.20482628047466278 \u001b[0m!\n",
      "Training... epoch: 2600, loss: 0.0002454107452649623\n",
      "\u001b[1;35m Testing... epoch: 2600, loss: 0.20487596094608307 \u001b[0m!\n",
      "Training... epoch: 2700, loss: 0.0013577594654634595\n",
      "\u001b[1;35m Testing... epoch: 2700, loss: 0.2103356122970581 \u001b[0m!\n",
      "Training... epoch: 2800, loss: 0.00012162925122538581\n",
      "\u001b[1;35m Testing... epoch: 2800, loss: 0.20179668068885803 \u001b[0m!\n",
      "Training... epoch: 2900, loss: 0.00014337871107272804\n",
      "\u001b[1;35m Testing... epoch: 2900, loss: 0.2027009129524231 \u001b[0m!\n",
      "Training... epoch: 3000, loss: 0.001346362754702568\n",
      "\u001b[1;35m Testing... epoch: 3000, loss: 0.1890781819820404 \u001b[0m!\n",
      "Training... epoch: 3100, loss: 0.00021836422092746943\n",
      "\u001b[1;35m Testing... epoch: 3100, loss: 0.20191523432731628 \u001b[0m!\n",
      "Training... epoch: 3200, loss: 0.00016035718726925552\n",
      "\u001b[1;35m Testing... epoch: 3200, loss: 0.20292913913726807 \u001b[0m!\n",
      "Training... epoch: 3300, loss: 0.0001217649260070175\n",
      "\u001b[1;35m Testing... epoch: 3300, loss: 0.2032005488872528 \u001b[0m!\n",
      "Training... epoch: 3400, loss: 0.00012645513925235718\n",
      "\u001b[1;35m Testing... epoch: 3400, loss: 0.20341980457305908 \u001b[0m!\n",
      "Training... epoch: 3500, loss: 0.00012116571451770142\n",
      "\u001b[1;35m Testing... epoch: 3500, loss: 0.20331400632858276 \u001b[0m!\n",
      "Training... epoch: 3600, loss: 0.00011819233623100445\n",
      "\u001b[1;35m Testing... epoch: 3600, loss: 0.20323807001113892 \u001b[0m!\n",
      "Training... epoch: 3700, loss: 0.00011652604734990746\n",
      "\u001b[1;35m Testing... epoch: 3700, loss: 0.20318418741226196 \u001b[0m!\n",
      "Training... epoch: 3800, loss: 0.00011558926053112373\n",
      "\u001b[1;35m Testing... epoch: 3800, loss: 0.20314651727676392 \u001b[0m!\n",
      "Training... epoch: 3900, loss: 0.00011507113231346011\n",
      "\u001b[1;35m Testing... epoch: 3900, loss: 0.2031213641166687 \u001b[0m!\n",
      "Training... epoch: 4000, loss: 0.0001147491202573292\n",
      "\u001b[1;35m Testing... epoch: 4000, loss: 0.20310290157794952 \u001b[0m!\n",
      "Training... epoch: 4100, loss: 0.0001145512142102234\n",
      "\u001b[1;35m Testing... epoch: 4100, loss: 0.20309071242809296 \u001b[0m!\n",
      "Training... epoch: 4200, loss: 0.00011442040704423562\n",
      "\u001b[1;35m Testing... epoch: 4200, loss: 0.20308299362659454 \u001b[0m!\n",
      "Training... epoch: 4300, loss: 0.00011432560131652281\n",
      "\u001b[1;35m Testing... epoch: 4300, loss: 0.20307782292366028 \u001b[0m!\n",
      "Training... epoch: 4400, loss: 0.00011424986587371677\n",
      "\u001b[1;35m Testing... epoch: 4400, loss: 0.20307399332523346 \u001b[0m!\n",
      "Training... epoch: 4500, loss: 0.0001141858083428815\n",
      "\u001b[1;35m Testing... epoch: 4500, loss: 0.20307102799415588 \u001b[0m!\n",
      "Training... epoch: 4600, loss: 0.00011413013271521777\n",
      "\u001b[1;35m Testing... epoch: 4600, loss: 0.2030685842037201 \u001b[0m!\n",
      "Training... epoch: 4700, loss: 0.00011407883721403778\n",
      "\u001b[1;35m Testing... epoch: 4700, loss: 0.2030663788318634 \u001b[0m!\n",
      "Training... epoch: 4800, loss: 0.00011403286771383137\n",
      "\u001b[1;35m Testing... epoch: 4800, loss: 0.20306433737277985 \u001b[0m!\n",
      "Training... epoch: 4900, loss: 0.00011399098002584651\n",
      "\u001b[1;35m Testing... epoch: 4900, loss: 0.20306211709976196 \u001b[0m!\n",
      "Training... epoch: 5000, loss: 0.00011395185720175505\n",
      "\u001b[1;35m Testing... epoch: 5000, loss: 0.20305968821048737 \u001b[0m!\n",
      "Training completed!!! Time consuming: 18.497227907180786\n"
     ]
    }
   ],
   "source": [
    "lstm2.fit(X_train_standard, y_train_standard, X_test_standard, y_test_standard)"
   ]
  },
  {
   "cell_type": "markdown",
   "metadata": {},
   "source": [
    "### 反标准化"
   ]
  },
  {
   "cell_type": "code",
   "execution_count": 55,
   "metadata": {},
   "outputs": [
    {
     "name": "stdout",
     "output_type": "stream",
     "text": [
      "mse: 3512.511474609375, rmse: 59.26644515991211, mae: 46.6807861328125, mape: 24.742209911346436, r2: 0.694318353709293, rmsle: 0.28955426812171936\n",
      "if you wanna get the value of r2_adjusted, you can define the number of features, which is the third parameter.\n"
     ]
    },
    {
     "data": {
      "text/plain": [
       "(3512.5115,\n",
       " 59.266445,\n",
       " 46.680786,\n",
       " 24.742209911346436,\n",
       " 0.694318353709293,\n",
       " 0.28955427)"
      ]
     },
     "execution_count": 55,
     "metadata": {},
     "output_type": "execute_result"
    }
   ],
   "source": [
    "prediction_standard = lstm2.predict(X_test_standard)\n",
    "\n",
    "prediction = standard.inverse_transform(prediction_standard)\n",
    "y_true = standard.inverse_transform(y_test_standard)\n",
    "\n",
    "from frames.tools import reg_calculate\n",
    "\n",
    "reg_calculate(y_true, prediction)"
   ]
  },
  {
   "cell_type": "code",
   "execution_count": 56,
   "metadata": {},
   "outputs": [
    {
     "data": {
      "image/png": "[encoded data removed]",
      "text/plain": [
       "<Figure size 432x288 with 1 Axes>"
      ]
     },
     "metadata": {
      "needs_background": "light"
     },
     "output_type": "display_data"
    }
   ],
   "source": [
    "plt.plot(range(len(prediction)), prediction, 'r--', label='prediction')\n",
    "plt.plot(range(len(y_true)), y_true, 'b--', label='true')\n",
    "plt.legend()\n",
    "plt.show()"
   ]
  },
  {
   "cell_type": "code",
   "execution_count": null,
   "metadata": {},
   "outputs": [],
   "source": []
  }
 ],
 "metadata": {
  "kernelspec": {
   "display_name": "Python 3",
   "language": "python",
   "name": "python3"
  },
  "language_info": {
   "codemirror_mode": {
    "name": "ipython",
    "version": 3
   },
   "file_extension": ".py",
   "mimetype": "text/x-python",
   "name": "python",
   "nbconvert_exporter": "python",
   "pygments_lexer": "ipython3",
   "version": "3.6.2"
  }
 },
 "nbformat": 4,
 "nbformat_minor": 2
}
