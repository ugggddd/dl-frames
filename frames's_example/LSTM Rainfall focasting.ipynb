{
 "cells": [
  {
   "cell_type": "markdown",
   "metadata": {},
   "source": [
    "### 使用真实的降雨数据，经过 autoencoder 降维后，传入 lstm"
   ]
  },
  {
   "cell_type": "code",
   "execution_count": 1,
   "metadata": {},
   "outputs": [],
   "source": [
    "import numpy as np\n",
    "import pandas as pd\n",
    "import matplotlib.pyplot as plt\n",
    "%matplotlib inline"
   ]
  },
  {
   "cell_type": "code",
   "execution_count": 3,
   "metadata": {},
   "outputs": [],
   "source": [
    "X_train = np.loadtxt('./dataset/rainfall_dataset/X_train.csv', delimiter=',').reshape(-1, 1, 100)\n",
    "X_test = np.loadtxt('./dataset/rainfall_dataset/X_test.csv', delimiter=',').reshape(-1, 1, 100)\n",
    "y_train = np.loadtxt('./dataset/rainfall_dataset/y_train.csv', delimiter=',')\n",
    "y_test = np.loadtxt('./dataset/rainfall_dataset/y_test.csv', delimiter=',')"
   ]
  },
  {
   "cell_type": "code",
   "execution_count": 4,
   "metadata": {},
   "outputs": [],
   "source": [
    "from frames.DeeplearningRegression import LSTM"
   ]
  },
  {
   "cell_type": "code",
   "execution_count": 5,
   "metadata": {},
   "outputs": [],
   "source": [
    "save_path = './Example_results/Regression/Rainfall_LSTM_Result/'\n",
    "lstm = LSTM(learning_rate=[1e-3, 1e-5, 1e-7], hidden_size=32, num_layers=2, \n",
    "            epoch=2000, batch_size=256, save_path=save_path,\n",
    "            is_standard=True, Dimensionality_reduction_method='Auto')"
   ]
  },
  {
   "cell_type": "code",
   "execution_count": 6,
   "metadata": {},
   "outputs": [
    {
     "name": "stdout",
     "output_type": "stream",
     "text": [
      "Training... epoch: 100, loss: 884.5614013671875\n",
      "\u001b[1;35m Testing... epoch: 100, loss: 6920.9130859375 \u001b[0m!\n",
      "Training... epoch: 200, loss: 748.9395141601562\n",
      "\u001b[1;35m Testing... epoch: 200, loss: 6723.64453125 \u001b[0m!\n",
      "Training... epoch: 300, loss: 604.1502685546875\n",
      "\u001b[1;35m Testing... epoch: 300, loss: 6538.4580078125 \u001b[0m!\n",
      "Training... epoch: 400, loss: 505.1552734375\n",
      "\u001b[1;35m Testing... epoch: 400, loss: 6439.29150390625 \u001b[0m!\n",
      "Training... epoch: 500, loss: 437.3206481933594\n",
      "\u001b[1;35m Testing... epoch: 500, loss: 6277.26416015625 \u001b[0m!\n",
      "Training... epoch: 600, loss: 348.05096435546875\n",
      "\u001b[1;35m Testing... epoch: 600, loss: 6345.609375 \u001b[0m!\n",
      "Training... epoch: 700, loss: 253.4365692138672\n",
      "\u001b[1;35m Testing... epoch: 700, loss: 6352.953125 \u001b[0m!\n",
      "Training... epoch: 800, loss: 192.93624877929688\n",
      "\u001b[1;35m Testing... epoch: 800, loss: 6404.51904296875 \u001b[0m!\n",
      "Training... epoch: 900, loss: 136.6541748046875\n",
      "\u001b[1;35m Testing... epoch: 900, loss: 6373.3095703125 \u001b[0m!\n",
      "Training... epoch: 1000, loss: 94.02479553222656\n",
      "\u001b[1;35m Testing... epoch: 1000, loss: 6368.39501953125 \u001b[0m!\n",
      "Training... epoch: 1100, loss: 50.40654373168945\n",
      "\u001b[1;35m Testing... epoch: 1100, loss: 6348.22412109375 \u001b[0m!\n",
      "Training... epoch: 1200, loss: 32.09318542480469\n",
      "\u001b[1;35m Testing... epoch: 1200, loss: 6467.27490234375 \u001b[0m!\n",
      "Training... epoch: 1300, loss: 19.635786056518555\n",
      "\u001b[1;35m Testing... epoch: 1300, loss: 6517.33544921875 \u001b[0m!\n",
      "Training... epoch: 1400, loss: 17.258947372436523\n",
      "\u001b[1;35m Testing... epoch: 1400, loss: 6519.1875 \u001b[0m!\n",
      "Training... epoch: 1500, loss: 17.733928680419922\n",
      "\u001b[1;35m Testing... epoch: 1500, loss: 6530.3134765625 \u001b[0m!\n",
      "Training... epoch: 1600, loss: 18.10393524169922\n",
      "\u001b[1;35m Testing... epoch: 1600, loss: 6535.13232421875 \u001b[0m!\n",
      "Training... epoch: 1700, loss: 18.363798141479492\n",
      "\u001b[1;35m Testing... epoch: 1700, loss: 6537.11572265625 \u001b[0m!\n",
      "Training... epoch: 1800, loss: 18.50790786743164\n",
      "\u001b[1;35m Testing... epoch: 1800, loss: 6538.02685546875 \u001b[0m!\n",
      "Training... epoch: 1900, loss: 18.562198638916016\n",
      "\u001b[1;35m Testing... epoch: 1900, loss: 6538.0234375 \u001b[0m!\n",
      "Training... epoch: 2000, loss: 18.565656661987305\n",
      "\u001b[1;35m Testing... epoch: 2000, loss: 6537.306640625 \u001b[0m!\n",
      "Training completed!!! Time consuming: 73.5711658000946\n"
     ]
    }
   ],
   "source": [
    "lstm.fit(X_train, y_train, X_test, y_test)"
   ]
  },
  {
   "cell_type": "code",
   "execution_count": 7,
   "metadata": {},
   "outputs": [
    {
     "name": "stdout",
     "output_type": "stream",
     "text": [
      "mse: 6530.761443111912, rmse: 80.81312667575678, mae: 28.435269074097967, mape: nan, r2: 0.03829638462750018, r2_adjusted: -0.11935994576143427, rmsle: 1.9079961553648532\n"
     ]
    },
    {
     "name": "stderr",
     "output_type": "stream",
     "text": [
      "/Users/zhengd/Documents/dl-frames/frames/tools.py:25: RuntimeWarning: divide by zero encountered in true_divide\n",
      "  mape = np.mean(np.abs((true - prediction) / true)) * 100\n",
      "/Users/zhengd/Documents/dl-frames/frames/tools.py:25: RuntimeWarning: invalid value encountered in true_divide\n",
      "  mape = np.mean(np.abs((true - prediction) / true)) * 100\n"
     ]
    }
   ],
   "source": [
    "lstm.score()"
   ]
  },
  {
   "cell_type": "code",
   "execution_count": 8,
   "metadata": {},
   "outputs": [
    {
     "name": "stdout",
     "output_type": "stream",
     "text": [
      "Save results success!\n",
      "Save the value of prediction successfully!!\n",
      "Save the picture successfully!\n",
      "Save the picture of training loss successfully!\n",
      "Save the picture of testing loss  successfully!\n"
     ]
    }
   ],
   "source": [
    "lstm.save()"
   ]
  },
  {
   "cell_type": "code",
   "execution_count": null,
   "metadata": {},
   "outputs": [],
   "source": []
  }
 ],
 "metadata": {
  "kernelspec": {
   "display_name": "Python 3",
   "language": "python",
   "name": "python3"
  },
  "language_info": {
   "codemirror_mode": {
    "name": "ipython",
    "version": 3
   },
   "file_extension": ".py",
   "mimetype": "text/x-python",
   "name": "python",
   "nbconvert_exporter": "python",
   "pygments_lexer": "ipython3",
   "version": "3.6.2"
  }
 },
 "nbformat": 4,
 "nbformat_minor": 2
}
