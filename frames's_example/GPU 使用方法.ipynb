{
 "cells": [
  {
   "cell_type": "code",
   "execution_count": null,
   "metadata": {},
   "outputs": [],
   "source": [
    "from frames.DeeplearningRegression import ANN\n",
    "from frames.DeeplearningRegression import CNN\n",
    "from frames.DeeplearningRegression import LSTM"
   ]
  },
  {
   "cell_type": "markdown",
   "metadata": {},
   "source": [
    "### 参数说明\n",
    "ANN，CNN，LSTM 的参数设置都是一样\n",
    "\n",
    "\n",
    "**device 是选择使用哪一块 GPU，默认是第 0 块**\n",
    "\n",
    "\n",
    "**use_more_gpu 是否使用多块gpu，默认是False**"
   ]
  },
  {
   "cell_type": "code",
   "execution_count": null,
   "metadata": {},
   "outputs": [],
   "source": [
    "ann = ANN(device=0, use_more_gpu=False)\n",
    "cnn = CNN(device=0, use_more_gpu=False)\n",
    "lstm = LSTM(device=0, use_more_gpu=False)"
   ]
  },
  {
   "cell_type": "code",
   "execution_count": null,
   "metadata": {},
   "outputs": [],
   "source": []
  }
 ],
 "metadata": {
  "kernelspec": {
   "display_name": "Python 3",
   "language": "python",
   "name": "python3"
  },
  "language_info": {
   "codemirror_mode": {
    "name": "ipython",
    "version": 3
   },
   "file_extension": ".py",
   "mimetype": "text/x-python",
   "name": "python",
   "nbconvert_exporter": "python",
   "pygments_lexer": "ipython3",
   "version": "3.6.2"
  }
 },
 "nbformat": 4,
 "nbformat_minor": 2
}
