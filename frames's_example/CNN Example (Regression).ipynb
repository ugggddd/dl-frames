{
 "cells": [
  {
   "cell_type": "markdown",
   "metadata": {},
   "source": [
    "## 卷积神经网络——Regression example"
   ]
  },
  {
   "cell_type": "code",
   "execution_count": 1,
   "metadata": {},
   "outputs": [],
   "source": [
    "from sklearn import datasets\n",
    "\n",
    "'''\n",
    "The regression example of the Boston dataset.\n",
    "'''\n",
    "\n",
    "boston = datasets.load_boston()\n",
    "\n",
    "X, y = boston.data, boston.target.reshape(-1, 1)\n",
    "\n",
    "from sklearn.model_selection import train_test_split\n",
    "\n",
    "X_train, X_test, y_train, y_test = train_test_split(X, y, test_size=0.2, random_state=19)"
   ]
  },
  {
   "cell_type": "code",
   "execution_count": 2,
   "metadata": {},
   "outputs": [
    {
     "name": "stdout",
     "output_type": "stream",
     "text": [
      "(404, 13)\n",
      "(404, 1)\n"
     ]
    }
   ],
   "source": [
    "print(X_train.shape)\n",
    "print(y_train.shape)"
   ]
  },
  {
   "cell_type": "markdown",
   "metadata": {},
   "source": [
    "### 需要扩充 X 的feature，将其变成一个 matrix"
   ]
  },
  {
   "cell_type": "code",
   "execution_count": 3,
   "metadata": {},
   "outputs": [],
   "source": [
    "# 使用多项式增强\n",
    "from sklearn.preprocessing import PolynomialFeatures\n",
    "\n",
    "poly = PolynomialFeatures(degree=2)\n",
    "poly.fit(X_train)\n",
    "X_train_poly = poly.transform(X_train)\n",
    "X_test_poly = poly.transform(X_test)"
   ]
  },
  {
   "cell_type": "code",
   "execution_count": 4,
   "metadata": {},
   "outputs": [
    {
     "data": {
      "text/plain": [
       "(404, 105)"
      ]
     },
     "execution_count": 4,
     "metadata": {},
     "output_type": "execute_result"
    }
   ],
   "source": [
    "X_train_poly.shape"
   ]
  },
  {
   "cell_type": "code",
   "execution_count": 5,
   "metadata": {},
   "outputs": [],
   "source": [
    "# 只用前面 100 个维度\n",
    "X_train_poly_100, X_test_poly_100 = X_train_poly[:, :-5], X_test_poly[:, :-5]"
   ]
  },
  {
   "cell_type": "code",
   "execution_count": 6,
   "metadata": {},
   "outputs": [
    {
     "data": {
      "text/plain": [
       "(404, 100)"
      ]
     },
     "execution_count": 6,
     "metadata": {},
     "output_type": "execute_result"
    }
   ],
   "source": [
    "X_train_poly_100.shape"
   ]
  },
  {
   "cell_type": "markdown",
   "metadata": {},
   "source": [
    "### 调用 DeeplearningRegression 里面的 CNN 框架"
   ]
  },
  {
   "cell_type": "code",
   "execution_count": 7,
   "metadata": {},
   "outputs": [],
   "source": [
    "from frames.DeeplearningRegression import CNN\n",
    "\n",
    "'''\n",
    "参数说明：\n",
    "channel_numbers: 每层卷积层的通道数，传入 list\n",
    "kernel_size: 卷积核大小，默认(3,3)\n",
    "kernel_stride: 卷积核步幅，默认 1\n",
    "pooling_size: 池化核大小，默认（2，2）\n",
    "pool_stride: 池化核步幅，默认 2\n",
    "learning rete: 学习率，这里可以是一个 float，也可以是一个 len=3 的 list，当 lr 是 list 的时候，采用梯度衰减策略\n",
    "activate function: 激活函数，默认 relu，改激活函数输入小写字符串即可，如：'tanh','sigmoid'\n",
    "flatten: 卷积层后的平潭化操作，默认1024\n",
    "dropout: 默认为 0，即不采用，这个参数是为了防止训练过拟合\n",
    "epoch: 训练批次，默认 2000\n",
    "batch_size: 默认 128\n",
    "\n",
    "save_path: 默认 “CNN_Results”\n",
    "is_standard: 数据预处理部分是否使用了标准化，传入的是 str，可自行填充方法\n",
    "Dimensionality_reduction_method: 使用的降维方法，默认为 None\n",
    "'''\n",
    "save_path = 'Example_results/Regression/CNN_Results'\n",
    "cnn = CNN(channel_numbers=[64, 32], learning_rate=[1e-3, 1e-5, 1e-7], epoch=300, \n",
    "          batch_size=256, is_standard=False, Dimensionality_reduction_method='None',\n",
    "          save_path=save_path) # 采用梯度衰减策略"
   ]
  },
  {
   "cell_type": "code",
   "execution_count": 8,
   "metadata": {
    "scrolled": false
   },
   "outputs": [
    {
     "name": "stdout",
     "output_type": "stream",
     "text": [
      "Training... epoch: 100, loss: 40.64156723022461\n",
      "\u001b[1;35m Testing... epoch: 100, loss: 84.08361053466797 \u001b[0m!\n",
      "Training... epoch: 200, loss: 38.23516082763672\n",
      "\u001b[1;35m Testing... epoch: 200, loss: 80.53471374511719 \u001b[0m!\n",
      "Training... epoch: 300, loss: 56.92396926879883\n",
      "\u001b[1;35m Testing... epoch: 300, loss: 80.57908630371094 \u001b[0m!\n",
      "Training completed!!! Time consuming: 17.116451025009155\n"
     ]
    }
   ],
   "source": [
    "cnn.fit(X_train_poly_100, y_train, X_test_poly_100, y_test)"
   ]
  },
  {
   "cell_type": "markdown",
   "metadata": {},
   "source": [
    "### 调用 score 得到结果\n",
    "这里得到的 r2 adjusted 为负数是因为 sample 太少了，且对 features 进行了扩充。"
   ]
  },
  {
   "cell_type": "code",
   "execution_count": 9,
   "metadata": {},
   "outputs": [
    {
     "name": "stdout",
     "output_type": "stream",
     "text": [
      "mse: 80.5790914645199, rmse: 8.976585735373996, mae: 6.0846212592779425, mape: 24.196637120973648, r2: 0.229885583182585, r2_adjusted: -76.78155609855891, rmsle: 0.3084083307051\n"
     ]
    }
   ],
   "source": [
    "cnn.score()"
   ]
  },
  {
   "cell_type": "markdown",
   "metadata": {},
   "source": [
    "### 调用 save 函数，把 prediction，result，loss变化，预测图的路径 全部保存起来"
   ]
  },
  {
   "cell_type": "code",
   "execution_count": 10,
   "metadata": {},
   "outputs": [
    {
     "name": "stdout",
     "output_type": "stream",
     "text": [
      "Save results success!\n",
      "Save the value of prediction successfully!!\n",
      "Save the picture successfully!\n",
      "Save the picture of training loss successfully!\n",
      "Save the picture of testing loss  successfully!\n"
     ]
    }
   ],
   "source": [
    "cnn.save()"
   ]
  },
  {
   "cell_type": "code",
   "execution_count": null,
   "metadata": {},
   "outputs": [],
   "source": []
  }
 ],
 "metadata": {
  "kernelspec": {
   "display_name": "Python 3",
   "language": "python",
   "name": "python3"
  },
  "language_info": {
   "codemirror_mode": {
    "name": "ipython",
    "version": 3
   },
   "file_extension": ".py",
   "mimetype": "text/x-python",
   "name": "python",
   "nbconvert_exporter": "python",
   "pygments_lexer": "ipython3",
   "version": "3.6.2"
  }
 },
 "nbformat": 4,
 "nbformat_minor": 2
}
