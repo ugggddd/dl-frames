{
 "cells": [
  {
   "cell_type": "markdown",
   "metadata": {},
   "source": [
    "# <center> NFtorch 使用教程 </center>"
   ]
  },
  {
   "cell_type": "markdown",
   "metadata": {},
   "source": [
    "## 一. 深度学习模型"
   ]
  },
  {
   "cell_type": "markdown",
   "metadata": {},
   "source": [
    "### 1. 导入数据"
   ]
  },
  {
   "cell_type": "code",
   "execution_count": 1,
   "metadata": {},
   "outputs": [],
   "source": [
    "from NFtorch.DeepLearning import Regression\n",
    "import torch\n",
    "from torch import nn\n",
    "from sklearn import datasets\n",
    "\n",
    "boston = datasets.load_boston()\n",
    "\n",
    "X, y = boston.data, boston.target\n",
    "\n",
    "from sklearn.model_selection import train_test_split\n",
    "\n",
    "X_train, X_test, y_train, y_test = train_test_split(X, y, test_size=0.2, random_state=19)\n",
    "\n",
    "from sklearn.preprocessing import StandardScaler\n",
    "\n",
    "standard = StandardScaler()\n",
    "standard.fit(X_train)\n",
    "X_train_standard = standard.transform(X_train)\n",
    "X_test_standard = standard.transform(X_test)"
   ]
  },
  {
   "cell_type": "markdown",
   "metadata": {},
   "source": [
    "### 2. 构造模型"
   ]
  },
  {
   "cell_type": "code",
   "execution_count": 2,
   "metadata": {},
   "outputs": [],
   "source": [
    "class module_net(nn.Module):\n",
    "    def __init__(self, num_input, num_hidden, num_output):\n",
    "        super(module_net, self).__init__()\n",
    "        self.layer1 = nn.Linear(num_input, num_hidden)\n",
    "\n",
    "        self.layer2 = nn.Tanh()\n",
    "\n",
    "        self.layer3 = nn.Linear(num_hidden, num_output)\n",
    "\n",
    "    def forward(self, x):\n",
    "        x = self.layer1(x)\n",
    "        x = self.layer2(x)\n",
    "        x = self.layer3(x)\n",
    "        return x"
   ]
  },
  {
   "cell_type": "markdown",
   "metadata": {},
   "source": [
    "## 3. 定义超参数"
   ]
  },
  {
   "cell_type": "code",
   "execution_count": 3,
   "metadata": {},
   "outputs": [],
   "source": [
    "num_input = X_train_standard.shape[1]\n",
    "num_hidden = 32\n",
    "num_output = 1"
   ]
  },
  {
   "cell_type": "markdown",
   "metadata": {},
   "source": [
    "### 4.实例化模型，实例化 *NFtorch* 中的 *Regression* "
   ]
  },
  {
   "cell_type": "code",
   "execution_count": 4,
   "metadata": {},
   "outputs": [],
   "source": [
    "net = module_net(num_input, num_hidden, num_output)\n",
    "\n",
    "# 自定义参数, 这里采用的是 “学习率衰减” 的方法，如传入list，为梯度衰减，反之为正常lr。\n",
    "reg = Regression(net, learning_rate=[1e-3, 1e-5, 1e-7], dropout=0.2, weight_decay=1e-6,\n",
    "                     epoch=2000, batch_size=128) "
   ]
  },
  {
   "cell_type": "markdown",
   "metadata": {},
   "source": [
    "### 5.可选择性的设置函数"
   ]
  },
  {
   "cell_type": "code",
   "execution_count": 5,
   "metadata": {},
   "outputs": [],
   "source": [
    "reg.set_device(device=0, use_more_gpu=True) # 设置使用哪块 GPU， 是否用多块 GPU 并行操作\n",
    "\n",
    "# 这个是设置预处理的方法，默认为 None，保存模型用。可默认不设置\n",
    "reg.set_methods(preprocessing_method='Standardazation',\n",
    "                decomposition_method='PCA', save_path='DL_regression_save')\n",
    "\n",
    "'''\n",
    "设置 epoch 的中止装置：\n",
    "\n",
    "功能：减少运算时间，充分利用资源。\n",
    "\n",
    "原理：计算出最近的 10个 epoch 的 training losses 的均值 x，如果均值 x < limit，则进入下一个 learning rate\n",
    "因此，这个中止装置需与 “学习率衰减” 装置搭配使用。\n",
    "\n",
    "默认参数为： [1e-2, 1e-3, 1e-4]\n",
    "'''\n",
    "reg.set_limit(limit=[1e-2, 1e-3, 1e-4])"
   ]
  },
  {
   "cell_type": "markdown",
   "metadata": {},
   "source": [
    "### 6.训练模型"
   ]
  },
  {
   "cell_type": "code",
   "execution_count": 6,
   "metadata": {},
   "outputs": [
    {
     "name": "stdout",
     "output_type": "stream",
     "text": [
      "Now we're using the CPU\n",
      "The error changes within 0.01\n",
      "Training... epoch: 447, loss: 0.46830034255981445\n",
      "\u001b[1;35m Testing... epoch: 447, loss: 19.718181610107422 \u001b[0m!\n",
      "Now learning rate is : 1e-05\n",
      "The error changes within 0.001\n",
      "Training... epoch: 467, loss: 0.4642278850078583\n",
      "\u001b[1;35m Testing... epoch: 467, loss: 19.717761993408203 \u001b[0m!\n",
      "Now learning rate is : 1e-07\n",
      "The error changes within 0.0001\n",
      "Training... epoch: 487, loss: 0.4641951620578766\n",
      "\u001b[1;35m Testing... epoch: 487, loss: 19.7177791595459 \u001b[0m!\n",
      "The meaning of the loop is not big, stop!!\n",
      "Training completed!!! Time consuming: 1.1097571849822998\n"
     ]
    }
   ],
   "source": [
    "reg.fit(X_train_standard, y_train, X_test_standard, y_test)"
   ]
  },
  {
   "cell_type": "markdown",
   "metadata": {},
   "source": [
    "### 7.训练完毕，查看并保存 预测结果"
   ]
  },
  {
   "cell_type": "code",
   "execution_count": 7,
   "metadata": {},
   "outputs": [
    {
     "name": "stdout",
     "output_type": "stream",
     "text": [
      "mse: 19.717778678224963, rmse: 4.4404705469381245, mae: 2.86853988123875, mape: 11.750048585203873, r2: 0.8115522854411653, r2_adjusted: 0.783713418517701, rmsle: 0.15688453241565506\n"
     ]
    }
   ],
   "source": [
    "reg.score()"
   ]
  },
  {
   "cell_type": "code",
   "execution_count": 8,
   "metadata": {},
   "outputs": [],
   "source": [
    "# 也可以使用 predict 函数获得 预测值\n",
    "prediction = reg.predict(X_test_standard)"
   ]
  },
  {
   "cell_type": "code",
   "execution_count": 9,
   "metadata": {},
   "outputs": [
    {
     "name": "stdout",
     "output_type": "stream",
     "text": [
      "Save results success!\n",
      "Save the value of prediction successfully!!\n",
      "Save the picture successfully!\n"
     ]
    }
   ],
   "source": [
    "'''\n",
    "保存结果：\n",
    "1. losses（picutre，values）\n",
    "2. Prediction（存放值，对应csv的count）\n",
    "3. Picture（同对应csv的count）\n",
    "3. 汇总的csv\n",
    "4. weight：模型参数\n",
    "'''\n",
    "reg.save()"
   ]
  },
  {
   "cell_type": "markdown",
   "metadata": {},
   "source": [
    "-----\n",
    "## 分类模型同理， 调用 Classification，后续操作相同就不重复了"
   ]
  },
  {
   "cell_type": "code",
   "execution_count": 10,
   "metadata": {},
   "outputs": [],
   "source": [
    "from NFtorch.DeepLearning import Classification"
   ]
  },
  {
   "cell_type": "code",
   "execution_count": null,
   "metadata": {},
   "outputs": [],
   "source": []
  }
 ],
 "metadata": {
  "kernelspec": {
   "display_name": "Python 3",
   "language": "python",
   "name": "python3"
  },
  "language_info": {
   "codemirror_mode": {
    "name": "ipython",
    "version": 3
   },
   "file_extension": ".py",
   "mimetype": "text/x-python",
   "name": "python",
   "nbconvert_exporter": "python",
   "pygments_lexer": "ipython3",
   "version": "3.6.2"
  }
 },
 "nbformat": 4,
 "nbformat_minor": 2
}
